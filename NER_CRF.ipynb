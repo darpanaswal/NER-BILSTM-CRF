{
  "cells": [
    {
      "cell_type": "code",
      "execution_count": null,
      "metadata": {
        "id": "Z4mDnPBzuURH"
      },
      "outputs": [],
      "source": [
        "!pip install plot_keras_history\n",
        "!pip install git+https://www.github.com/keras-team/keras-contrib.git\n",
        "!pip install tensorflow_addons\n",
        "\n",
        "!pip install tensorflow==2.1.0\n",
        "!pip install keras==2.3.1"
      ]
    },
    {
      "cell_type": "code",
      "execution_count": 21,
      "metadata": {
        "id": "BslhQua0uURM"
      },
      "outputs": [],
      "source": [
        "import re\n",
        "import string\n",
        "import warnings\n",
        "import numpy as np\n",
        "import pandas as pd\n",
        "from keras import Sequential\n",
        "from keras import optimizers\n",
        "from keras.models import Model\n",
        "from keras.models import Input\n",
        "import matplotlib.pyplot as plt\n",
        "from keras_contrib import losses\n",
        "from keras_contrib import metrics\n",
        "from keras_contrib.layers import CRF\n",
        "from plot_keras_history import plot_history\n",
        "from keras_contrib.utils import save_load_utils\n",
        "from tensorflow.keras.callbacks import EarlyStopping\n",
        "from sklearn.model_selection import train_test_split\n",
        "from sklearn.metrics import multilabel_confusion_matrix\n",
        "from keras.layers import Embedding, Bidirectional, LSTM, TimeDistributed, Dense"
      ]
    },
    {
      "cell_type": "code",
      "execution_count": 2,
      "metadata": {
        "id": "X5I-AdLEuzYx",
        "colab": {
          "base_uri": "https://localhost:8080/",
          "height": 423
        },
        "outputId": "084dc67e-c954-44ff-afcd-42ed7684f2e8"
      },
      "outputs": [
        {
          "output_type": "execute_result",
          "data": {
            "text/plain": [
              "         Sentence #           Word Tag\n",
              "0                 1      Thousands   O\n",
              "1                 1             of   O\n",
              "2                 1  demonstrators   O\n",
              "3                 1           have   O\n",
              "4                 1        marched   O\n",
              "...             ...            ...  ..\n",
              "1048570       47959           they   O\n",
              "1048571       47959      responded   O\n",
              "1048572       47959             to   O\n",
              "1048573       47959            the   O\n",
              "1048574       47959         attack   O\n",
              "\n",
              "[1048575 rows x 3 columns]"
            ],
            "text/html": [
              "\n",
              "  <div id=\"df-fe072325-f99f-471c-88c3-8044864328c2\">\n",
              "    <div class=\"colab-df-container\">\n",
              "      <div>\n",
              "<style scoped>\n",
              "    .dataframe tbody tr th:only-of-type {\n",
              "        vertical-align: middle;\n",
              "    }\n",
              "\n",
              "    .dataframe tbody tr th {\n",
              "        vertical-align: top;\n",
              "    }\n",
              "\n",
              "    .dataframe thead th {\n",
              "        text-align: right;\n",
              "    }\n",
              "</style>\n",
              "<table border=\"1\" class=\"dataframe\">\n",
              "  <thead>\n",
              "    <tr style=\"text-align: right;\">\n",
              "      <th></th>\n",
              "      <th>Sentence #</th>\n",
              "      <th>Word</th>\n",
              "      <th>Tag</th>\n",
              "    </tr>\n",
              "  </thead>\n",
              "  <tbody>\n",
              "    <tr>\n",
              "      <th>0</th>\n",
              "      <td>1</td>\n",
              "      <td>Thousands</td>\n",
              "      <td>O</td>\n",
              "    </tr>\n",
              "    <tr>\n",
              "      <th>1</th>\n",
              "      <td>1</td>\n",
              "      <td>of</td>\n",
              "      <td>O</td>\n",
              "    </tr>\n",
              "    <tr>\n",
              "      <th>2</th>\n",
              "      <td>1</td>\n",
              "      <td>demonstrators</td>\n",
              "      <td>O</td>\n",
              "    </tr>\n",
              "    <tr>\n",
              "      <th>3</th>\n",
              "      <td>1</td>\n",
              "      <td>have</td>\n",
              "      <td>O</td>\n",
              "    </tr>\n",
              "    <tr>\n",
              "      <th>4</th>\n",
              "      <td>1</td>\n",
              "      <td>marched</td>\n",
              "      <td>O</td>\n",
              "    </tr>\n",
              "    <tr>\n",
              "      <th>...</th>\n",
              "      <td>...</td>\n",
              "      <td>...</td>\n",
              "      <td>...</td>\n",
              "    </tr>\n",
              "    <tr>\n",
              "      <th>1048570</th>\n",
              "      <td>47959</td>\n",
              "      <td>they</td>\n",
              "      <td>O</td>\n",
              "    </tr>\n",
              "    <tr>\n",
              "      <th>1048571</th>\n",
              "      <td>47959</td>\n",
              "      <td>responded</td>\n",
              "      <td>O</td>\n",
              "    </tr>\n",
              "    <tr>\n",
              "      <th>1048572</th>\n",
              "      <td>47959</td>\n",
              "      <td>to</td>\n",
              "      <td>O</td>\n",
              "    </tr>\n",
              "    <tr>\n",
              "      <th>1048573</th>\n",
              "      <td>47959</td>\n",
              "      <td>the</td>\n",
              "      <td>O</td>\n",
              "    </tr>\n",
              "    <tr>\n",
              "      <th>1048574</th>\n",
              "      <td>47959</td>\n",
              "      <td>attack</td>\n",
              "      <td>O</td>\n",
              "    </tr>\n",
              "  </tbody>\n",
              "</table>\n",
              "<p>1048575 rows × 3 columns</p>\n",
              "</div>\n",
              "      <button class=\"colab-df-convert\" onclick=\"convertToInteractive('df-fe072325-f99f-471c-88c3-8044864328c2')\"\n",
              "              title=\"Convert this dataframe to an interactive table.\"\n",
              "              style=\"display:none;\">\n",
              "        \n",
              "  <svg xmlns=\"http://www.w3.org/2000/svg\" height=\"24px\"viewBox=\"0 0 24 24\"\n",
              "       width=\"24px\">\n",
              "    <path d=\"M0 0h24v24H0V0z\" fill=\"none\"/>\n",
              "    <path d=\"M18.56 5.44l.94 2.06.94-2.06 2.06-.94-2.06-.94-.94-2.06-.94 2.06-2.06.94zm-11 1L8.5 8.5l.94-2.06 2.06-.94-2.06-.94L8.5 2.5l-.94 2.06-2.06.94zm10 10l.94 2.06.94-2.06 2.06-.94-2.06-.94-.94-2.06-.94 2.06-2.06.94z\"/><path d=\"M17.41 7.96l-1.37-1.37c-.4-.4-.92-.59-1.43-.59-.52 0-1.04.2-1.43.59L10.3 9.45l-7.72 7.72c-.78.78-.78 2.05 0 2.83L4 21.41c.39.39.9.59 1.41.59.51 0 1.02-.2 1.41-.59l7.78-7.78 2.81-2.81c.8-.78.8-2.07 0-2.86zM5.41 20L4 18.59l7.72-7.72 1.47 1.35L5.41 20z\"/>\n",
              "  </svg>\n",
              "      </button>\n",
              "      \n",
              "  <style>\n",
              "    .colab-df-container {\n",
              "      display:flex;\n",
              "      flex-wrap:wrap;\n",
              "      gap: 12px;\n",
              "    }\n",
              "\n",
              "    .colab-df-convert {\n",
              "      background-color: #E8F0FE;\n",
              "      border: none;\n",
              "      border-radius: 50%;\n",
              "      cursor: pointer;\n",
              "      display: none;\n",
              "      fill: #1967D2;\n",
              "      height: 32px;\n",
              "      padding: 0 0 0 0;\n",
              "      width: 32px;\n",
              "    }\n",
              "\n",
              "    .colab-df-convert:hover {\n",
              "      background-color: #E2EBFA;\n",
              "      box-shadow: 0px 1px 2px rgba(60, 64, 67, 0.3), 0px 1px 3px 1px rgba(60, 64, 67, 0.15);\n",
              "      fill: #174EA6;\n",
              "    }\n",
              "\n",
              "    [theme=dark] .colab-df-convert {\n",
              "      background-color: #3B4455;\n",
              "      fill: #D2E3FC;\n",
              "    }\n",
              "\n",
              "    [theme=dark] .colab-df-convert:hover {\n",
              "      background-color: #434B5C;\n",
              "      box-shadow: 0px 1px 3px 1px rgba(0, 0, 0, 0.15);\n",
              "      filter: drop-shadow(0px 1px 2px rgba(0, 0, 0, 0.3));\n",
              "      fill: #FFFFFF;\n",
              "    }\n",
              "  </style>\n",
              "\n",
              "      <script>\n",
              "        const buttonEl =\n",
              "          document.querySelector('#df-fe072325-f99f-471c-88c3-8044864328c2 button.colab-df-convert');\n",
              "        buttonEl.style.display =\n",
              "          google.colab.kernel.accessAllowed ? 'block' : 'none';\n",
              "\n",
              "        async function convertToInteractive(key) {\n",
              "          const element = document.querySelector('#df-fe072325-f99f-471c-88c3-8044864328c2');\n",
              "          const dataTable =\n",
              "            await google.colab.kernel.invokeFunction('convertToInteractive',\n",
              "                                                     [key], {});\n",
              "          if (!dataTable) return;\n",
              "\n",
              "          const docLinkHtml = 'Like what you see? Visit the ' +\n",
              "            '<a target=\"_blank\" href=https://colab.research.google.com/notebooks/data_table.ipynb>data table notebook</a>'\n",
              "            + ' to learn more about interactive tables.';\n",
              "          element.innerHTML = '';\n",
              "          dataTable['output_type'] = 'display_data';\n",
              "          await google.colab.output.renderOutput(dataTable, element);\n",
              "          const docLink = document.createElement('div');\n",
              "          docLink.innerHTML = docLinkHtml;\n",
              "          element.appendChild(docLink);\n",
              "        }\n",
              "      </script>\n",
              "    </div>\n",
              "  </div>\n",
              "  "
            ]
          },
          "metadata": {},
          "execution_count": 2
        }
      ],
      "source": [
        "data = pd.read_csv(\"ner_dataset.csv\", encoding = \"iso-8859-1\", header = 0)\n",
        "\n",
        "data = data.fillna(method = \"ffill\")\n",
        "data[\"Sentence #\"] = data[\"Sentence #\"].apply(lambda x: x[9:])\n",
        "data[\"Sentence #\"] = data[\"Sentence #\"].astype(\"int32\")\n",
        "data.drop(\"POS\", axis = 1, inplace = True)\n",
        "data"
      ]
    },
    {
      "cell_type": "code",
      "execution_count": 3,
      "metadata": {
        "id": "vqY17l0Dvg1a",
        "colab": {
          "base_uri": "https://localhost:8080/",
          "height": 455
        },
        "outputId": "2cdee768-5dda-4a94-defa-9c657c6ce035"
      },
      "outputs": [
        {
          "output_type": "execute_result",
          "data": {
            "text/plain": [
              "            Word count\n",
              "Sentence #            \n",
              "1                   24\n",
              "2                   30\n",
              "3                   14\n",
              "4                   15\n",
              "5                   25\n",
              "...                ...\n",
              "47955               20\n",
              "47956               24\n",
              "47957               11\n",
              "47958               11\n",
              "47959                8\n",
              "\n",
              "[47959 rows x 1 columns]"
            ],
            "text/html": [
              "\n",
              "  <div id=\"df-8951bb7d-b689-479a-b1ba-459552dd49ba\">\n",
              "    <div class=\"colab-df-container\">\n",
              "      <div>\n",
              "<style scoped>\n",
              "    .dataframe tbody tr th:only-of-type {\n",
              "        vertical-align: middle;\n",
              "    }\n",
              "\n",
              "    .dataframe tbody tr th {\n",
              "        vertical-align: top;\n",
              "    }\n",
              "\n",
              "    .dataframe thead th {\n",
              "        text-align: right;\n",
              "    }\n",
              "</style>\n",
              "<table border=\"1\" class=\"dataframe\">\n",
              "  <thead>\n",
              "    <tr style=\"text-align: right;\">\n",
              "      <th></th>\n",
              "      <th>Word count</th>\n",
              "    </tr>\n",
              "    <tr>\n",
              "      <th>Sentence #</th>\n",
              "      <th></th>\n",
              "    </tr>\n",
              "  </thead>\n",
              "  <tbody>\n",
              "    <tr>\n",
              "      <th>1</th>\n",
              "      <td>24</td>\n",
              "    </tr>\n",
              "    <tr>\n",
              "      <th>2</th>\n",
              "      <td>30</td>\n",
              "    </tr>\n",
              "    <tr>\n",
              "      <th>3</th>\n",
              "      <td>14</td>\n",
              "    </tr>\n",
              "    <tr>\n",
              "      <th>4</th>\n",
              "      <td>15</td>\n",
              "    </tr>\n",
              "    <tr>\n",
              "      <th>5</th>\n",
              "      <td>25</td>\n",
              "    </tr>\n",
              "    <tr>\n",
              "      <th>...</th>\n",
              "      <td>...</td>\n",
              "    </tr>\n",
              "    <tr>\n",
              "      <th>47955</th>\n",
              "      <td>20</td>\n",
              "    </tr>\n",
              "    <tr>\n",
              "      <th>47956</th>\n",
              "      <td>24</td>\n",
              "    </tr>\n",
              "    <tr>\n",
              "      <th>47957</th>\n",
              "      <td>11</td>\n",
              "    </tr>\n",
              "    <tr>\n",
              "      <th>47958</th>\n",
              "      <td>11</td>\n",
              "    </tr>\n",
              "    <tr>\n",
              "      <th>47959</th>\n",
              "      <td>8</td>\n",
              "    </tr>\n",
              "  </tbody>\n",
              "</table>\n",
              "<p>47959 rows × 1 columns</p>\n",
              "</div>\n",
              "      <button class=\"colab-df-convert\" onclick=\"convertToInteractive('df-8951bb7d-b689-479a-b1ba-459552dd49ba')\"\n",
              "              title=\"Convert this dataframe to an interactive table.\"\n",
              "              style=\"display:none;\">\n",
              "        \n",
              "  <svg xmlns=\"http://www.w3.org/2000/svg\" height=\"24px\"viewBox=\"0 0 24 24\"\n",
              "       width=\"24px\">\n",
              "    <path d=\"M0 0h24v24H0V0z\" fill=\"none\"/>\n",
              "    <path d=\"M18.56 5.44l.94 2.06.94-2.06 2.06-.94-2.06-.94-.94-2.06-.94 2.06-2.06.94zm-11 1L8.5 8.5l.94-2.06 2.06-.94-2.06-.94L8.5 2.5l-.94 2.06-2.06.94zm10 10l.94 2.06.94-2.06 2.06-.94-2.06-.94-.94-2.06-.94 2.06-2.06.94z\"/><path d=\"M17.41 7.96l-1.37-1.37c-.4-.4-.92-.59-1.43-.59-.52 0-1.04.2-1.43.59L10.3 9.45l-7.72 7.72c-.78.78-.78 2.05 0 2.83L4 21.41c.39.39.9.59 1.41.59.51 0 1.02-.2 1.41-.59l7.78-7.78 2.81-2.81c.8-.78.8-2.07 0-2.86zM5.41 20L4 18.59l7.72-7.72 1.47 1.35L5.41 20z\"/>\n",
              "  </svg>\n",
              "      </button>\n",
              "      \n",
              "  <style>\n",
              "    .colab-df-container {\n",
              "      display:flex;\n",
              "      flex-wrap:wrap;\n",
              "      gap: 12px;\n",
              "    }\n",
              "\n",
              "    .colab-df-convert {\n",
              "      background-color: #E8F0FE;\n",
              "      border: none;\n",
              "      border-radius: 50%;\n",
              "      cursor: pointer;\n",
              "      display: none;\n",
              "      fill: #1967D2;\n",
              "      height: 32px;\n",
              "      padding: 0 0 0 0;\n",
              "      width: 32px;\n",
              "    }\n",
              "\n",
              "    .colab-df-convert:hover {\n",
              "      background-color: #E2EBFA;\n",
              "      box-shadow: 0px 1px 2px rgba(60, 64, 67, 0.3), 0px 1px 3px 1px rgba(60, 64, 67, 0.15);\n",
              "      fill: #174EA6;\n",
              "    }\n",
              "\n",
              "    [theme=dark] .colab-df-convert {\n",
              "      background-color: #3B4455;\n",
              "      fill: #D2E3FC;\n",
              "    }\n",
              "\n",
              "    [theme=dark] .colab-df-convert:hover {\n",
              "      background-color: #434B5C;\n",
              "      box-shadow: 0px 1px 3px 1px rgba(0, 0, 0, 0.15);\n",
              "      filter: drop-shadow(0px 1px 2px rgba(0, 0, 0, 0.3));\n",
              "      fill: #FFFFFF;\n",
              "    }\n",
              "  </style>\n",
              "\n",
              "      <script>\n",
              "        const buttonEl =\n",
              "          document.querySelector('#df-8951bb7d-b689-479a-b1ba-459552dd49ba button.colab-df-convert');\n",
              "        buttonEl.style.display =\n",
              "          google.colab.kernel.accessAllowed ? 'block' : 'none';\n",
              "\n",
              "        async function convertToInteractive(key) {\n",
              "          const element = document.querySelector('#df-8951bb7d-b689-479a-b1ba-459552dd49ba');\n",
              "          const dataTable =\n",
              "            await google.colab.kernel.invokeFunction('convertToInteractive',\n",
              "                                                     [key], {});\n",
              "          if (!dataTable) return;\n",
              "\n",
              "          const docLinkHtml = 'Like what you see? Visit the ' +\n",
              "            '<a target=\"_blank\" href=https://colab.research.google.com/notebooks/data_table.ipynb>data table notebook</a>'\n",
              "            + ' to learn more about interactive tables.';\n",
              "          element.innerHTML = '';\n",
              "          dataTable['output_type'] = 'display_data';\n",
              "          await google.colab.output.renderOutput(dataTable, element);\n",
              "          const docLink = document.createElement('div');\n",
              "          docLink.innerHTML = docLinkHtml;\n",
              "          element.appendChild(docLink);\n",
              "        }\n",
              "      </script>\n",
              "    </div>\n",
              "  </div>\n",
              "  "
            ]
          },
          "metadata": {},
          "execution_count": 3
        }
      ],
      "source": [
        "word_counts = data.groupby(\"Sentence #\")[\"Word\"].agg([\"count\"])\n",
        "word_counts = word_counts.rename(columns = {\"count\": \"Word count\"})\n",
        "word_counts"
      ]
    },
    {
      "cell_type": "code",
      "execution_count": 4,
      "metadata": {
        "id": "sEoCCp8vvnlF"
      },
      "outputs": [],
      "source": [
        "len_max = word_counts.max()[0]\n",
        "longest_sentence_id = word_counts[word_counts[\"Word count\"] == len_max].index[0]\n",
        "longest_sentence = data[data[\"Sentence #\"] == longest_sentence_id][\"Word\"].str.cat(sep = ' ')\n",
        "all_words = list(set(data[\"Word\"].values))\n",
        "all_tags = list(set(data[\"Tag\"].values))"
      ]
    },
    {
      "cell_type": "code",
      "execution_count": 5,
      "metadata": {
        "id": "pjlbyH9cvuoY"
      },
      "outputs": [],
      "source": [
        "word2index = {word: idx + 2 for idx, word in enumerate(all_words)}\n",
        "word2index[\"--UNKNOWN_WORD--\"] = 0\n",
        "word2index[\"--PADDING--\"] = 1\n",
        "index2word = {idx: word for word, idx in word2index.items()}"
      ]
    },
    {
      "cell_type": "code",
      "execution_count": 6,
      "metadata": {
        "id": "sPSCqWu0v1ED"
      },
      "outputs": [],
      "source": [
        "tag2index = {tag: idx + 1 for idx, tag in enumerate(all_tags)}\n",
        "tag2index[\"--PADDING--\"] = 0\n",
        "index2tag = {idx: word for word, idx in tag2index.items()}"
      ]
    },
    {
      "cell_type": "code",
      "execution_count": 7,
      "metadata": {
        "id": "UpKeKIVev9Pf"
      },
      "outputs": [],
      "source": [
        "def to_tuples(data):\n",
        "  iterator = zip(data[\"Word\"].values.tolist(), data[\"Tag\"].values.tolist())\n",
        "  return [(word, tag) for word, tag in iterator]\n",
        "\n",
        "sentences = data.groupby(\"Sentence #\").apply(to_tuples).tolist()"
      ]
    },
    {
      "cell_type": "code",
      "source": [
        "sentences"
      ],
      "metadata": {
        "id": "nNlwiiXay89y"
      },
      "execution_count": null,
      "outputs": []
    },
    {
      "cell_type": "code",
      "execution_count": 9,
      "metadata": {
        "id": "XsgyQ_dSv-lw"
      },
      "outputs": [],
      "source": [
        "X = [[word[0] for word in sentence] for sentence in sentences]\n",
        "y = [[word[1] for word in sentence] for sentence in sentences]\n",
        "\n",
        "X = [[word2index[word] for word in sentence] for sentence in X]\n",
        "y = [[tag2index[tag] for tag in sentence] for sentence in y]\n",
        "\n",
        "X = [sentence + [word2index[\"--PADDING--\"]] * (len_max - len(sentence)) for sentence in X]\n",
        "y = [sentence + [tag2index[\"--PADDING--\"]] * (len_max - len(sentence)) for sentence in y]\n",
        "\n",
        "num_tags = len(tag2index)\n",
        "y = [np.eye(num_tags)[sentence] for sentence in y]"
      ]
    },
    {
      "cell_type": "code",
      "execution_count": 17,
      "metadata": {
        "id": "aA-B9iEAwArn"
      },
      "outputs": [],
      "source": [
        "X_train, X_test, y_train, y_test = train_test_split(X, y, test_size = 0.2, random_state = 1234)\n",
        "\n",
        "X_train = np.array(X_train)\n",
        "X_test = np.array(X_test)\n",
        "y_train = np.array(y_train)\n",
        "y_test = np.array(y_test)"
      ]
    },
    {
      "cell_type": "code",
      "execution_count": 18,
      "metadata": {
        "colab": {
          "base_uri": "https://localhost:8080/"
        },
        "id": "-yKMrkQCwX0Z",
        "outputId": "590dff08-7922-41e0-d0d3-fe427be57476"
      },
      "outputs": [
        {
          "output_type": "stream",
          "name": "stdout",
          "text": [
            "Model: \"model_2\"\n",
            "_________________________________________________________________\n",
            "Layer (type)                 Output Shape              Param #   \n",
            "=================================================================\n",
            "input_2 (InputLayer)         (None, 104)               0         \n",
            "_________________________________________________________________\n",
            "embedding_2 (Embedding)      (None, 104, 50)           1759000   \n",
            "_________________________________________________________________\n",
            "bidirectional_2 (Bidirection (None, 104, 100)          40400     \n",
            "_________________________________________________________________\n",
            "time_distributed_2 (TimeDist (None, 104, 100)          10100     \n",
            "_________________________________________________________________\n",
            "crf_2 (CRF)                  (None, 104, 18)           2178      \n",
            "=================================================================\n",
            "Total params: 1,811,678\n",
            "Trainable params: 1,811,678\n",
            "Non-trainable params: 0\n",
            "_________________________________________________________________\n"
          ]
        }
      ],
      "source": [
        "input_layer = Input(shape = (len_max,))\n",
        "model = Embedding(len(index2word), 50, embeddings_initializer = \"uniform\", input_length = len_max)(input_layer)\n",
        "model = Bidirectional(LSTM(50, return_sequences = True))(model)\n",
        "model = TimeDistributed(Dense(100, activation = \"relu\"))(model)\n",
        "\n",
        "crf_layer = CRF(units = num_tags)\n",
        "output_layer = crf_layer(model)\n",
        "\n",
        "ner_model = Model(input_layer, output_layer)\n",
        "\n",
        "loss = losses.crf_loss\n",
        "acc_metric = metrics.crf_accuracy\n",
        "\n",
        "ner_model.compile(optimizer = 'nadam', loss = losses.crf_loss, metrics = [acc_metric])\n",
        "ner_model.summary()"
      ]
    },
    {
      "cell_type": "code",
      "execution_count": 22,
      "metadata": {
        "colab": {
          "base_uri": "https://localhost:8080/"
        },
        "id": "TEhKAP37ww1q",
        "outputId": "05e65fa3-bbc8-40e7-f977-8f7d1e9e7d99"
      },
      "outputs": [
        {
          "output_type": "stream",
          "name": "stdout",
          "text": [
            "Train on 38367 samples, validate on 9592 samples\n",
            "Epoch 1/5\n",
            "38367/38367 [==============================] - 45s 1ms/step - loss: 0.2935 - crf_accuracy: 0.9263 - val_loss: 0.0901 - val_crf_accuracy: 0.9723\n",
            "Epoch 2/5\n",
            "38367/38367 [==============================] - 41s 1ms/step - loss: 0.0633 - crf_accuracy: 0.9806 - val_loss: 0.0450 - val_crf_accuracy: 0.9884\n",
            "Epoch 3/5\n",
            "38367/38367 [==============================] - 41s 1ms/step - loss: 0.0307 - crf_accuracy: 0.9916 - val_loss: 0.0293 - val_crf_accuracy: 0.9915\n",
            "Epoch 4/5\n",
            "38367/38367 [==============================] - 42s 1ms/step - loss: 0.0207 - crf_accuracy: 0.9937 - val_loss: 0.0253 - val_crf_accuracy: 0.9922\n",
            "Epoch 5/5\n",
            "38367/38367 [==============================] - 41s 1ms/step - loss: 0.0161 - crf_accuracy: 0.9948 - val_loss: 0.0235 - val_crf_accuracy: 0.9925\n"
          ]
        }
      ],
      "source": [
        "warnings.filterwarnings(\"ignore\")\n",
        "es = EarlyStopping(monitor = 'val_loss', mode = 'min', verbose = 1, patience = 2)\n",
        "\n",
        "history = ner_model.fit(X_train, y_train, batch_size = 256, epochs = 5, validation_data = (X_test, y_test), callbacks = [es])"
      ]
    },
    {
      "cell_type": "code",
      "source": [
        "y_test = np.argmax(y_test, axis = 2)"
      ],
      "metadata": {
        "id": "ug6zb07_gWEq"
      },
      "execution_count": 23,
      "outputs": []
    },
    {
      "cell_type": "code",
      "execution_count": 24,
      "metadata": {
        "colab": {
          "base_uri": "https://localhost:8080/"
        },
        "id": "E9XmBQPCiDFA",
        "outputId": "7e0f0379-97e3-4efb-91a0-8da77a66f0af"
      },
      "outputs": [
        {
          "output_type": "stream",
          "name": "stdout",
          "text": [
            "Accuracy: 0.9925\n"
          ]
        }
      ],
      "source": [
        "y_pred = np.argmax(ner_model.predict(X_test), axis = 2)\n",
        "acc = (y_pred == y_test).mean()\n",
        "print(\"Accuracy: {:.4f}\".format(acc))"
      ]
    },
    {
      "cell_type": "code",
      "execution_count": 25,
      "metadata": {
        "id": "ul36Jv9Umb5R"
      },
      "outputs": [],
      "source": [
        "sentence = \"John lives in New York\""
      ]
    },
    {
      "cell_type": "code",
      "execution_count": 26,
      "metadata": {
        "colab": {
          "base_uri": "https://localhost:8080/"
        },
        "id": "3MwrqxPOmp4O",
        "outputId": "67864f94-a579-4f41-aceb-511b364603e3"
      },
      "outputs": [
        {
          "output_type": "stream",
          "name": "stdout",
          "text": [
            "John           : B-per\n",
            "lives          : O    \n",
            "in             : O    \n",
            "New            : B-geo\n",
            "York           : I-geo\n",
            "\n"
          ]
        }
      ],
      "source": [
        "re_tok = re.compile(f\"([{string.punctuation}“”¨«»®´·º½¾¿¡§£₤‘’])\")\n",
        "sentence = re_tok.sub(r\"  \", sentence).split()\n",
        "\n",
        "pad_sentence = sentence + [word2index[\"--PADDING--\"]] * (len_max - len(sentence))\n",
        "pad_sentence = [word2index.get(w, 0) for w in pad_sentence]\n",
        "\n",
        "pred = ner_model.predict(np.array([pad_sentence]))\n",
        "pred = np.argmax(pred, axis = -1)\n",
        "\n",
        "entity = \"\"\n",
        "for w, p in zip(sentence, pred[0]):\n",
        "  entity = entity + \"{:15}: {:5}\".format(w, index2tag[p]) + \"\\n\"\n",
        "print(entity)"
      ]
    }
  ],
  "metadata": {
    "accelerator": "GPU",
    "colab": {
      "collapsed_sections": [],
      "provenance": []
    },
    "gpuClass": "standard",
    "kernelspec": {
      "display_name": "Python 3.10.4 64-bit",
      "language": "python",
      "name": "python3"
    },
    "language_info": {
      "codemirror_mode": {
        "name": "ipython",
        "version": 3
      },
      "file_extension": ".py",
      "mimetype": "text/x-python",
      "name": "python",
      "nbconvert_exporter": "python",
      "pygments_lexer": "ipython3",
      "version": "3.10.4"
    },
    "vscode": {
      "interpreter": {
        "hash": "a9f163997e9f8e499c00e0e6b9e906414411e2127b46913a7e019f286d4ee483"
      }
    }
  },
  "nbformat": 4,
  "nbformat_minor": 0
}